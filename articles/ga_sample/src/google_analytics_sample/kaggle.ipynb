{
 "cells": [
  {
   "cell_type": "code",
   "execution_count": null,
   "metadata": {},
   "outputs": [
    {
     "ename": "",
     "evalue": "",
     "output_type": "error",
     "traceback": [
      "\u001b[1;31mA execução de células com 'usr (Python 3.12.3)' requer o pacote ipykernel.\n",
      "\u001b[1;31mExecute o seguinte comando para instalar \"ipykernel\" no ambiente do Python. \n",
      "\u001b[1;31mComando: \"/bin/python3.12 -m pip install ipykernel -U --force-reinstall\""
     ]
    }
   ],
   "source": [
    "import kaggle as kg\n",
    "import pandas as pd\n",
    "import os\n",
    "\n",
    "os.environ['KAGGLE_USERNAME'] = 'user-name'\n",
    "os.environ['KAGGLE_KEY'] = 'kaggle-key'\n",
    "\n",
    "kg.api.authenticate()\n",
    "\n",
    "kg.api.dataset_download_files(dataset = \"vijayuv/onlineretail\", path='on.zip', unzip=True)\n",
    "\n",
    "df = pd.read_csv('on.zip/OnlineRetail.csv', encoding='ISO-8859-1')\n",
    "df.head()"
   ]
  }
 ],
 "metadata": {
  "kernelspec": {
   "display_name": "usr",
   "language": "python",
   "name": "python3"
  },
  "language_info": {
   "name": "python",
   "version": "3.12.3"
  }
 },
 "nbformat": 4,
 "nbformat_minor": 2
}
