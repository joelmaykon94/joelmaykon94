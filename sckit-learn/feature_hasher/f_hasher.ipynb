{
 "cells": [
  {
   "cell_type": "code",
   "execution_count": null,
   "metadata": {
    "vscode": {
     "languageId": "plaintext"
    }
   },
   "outputs": [],
   "source": [
    "import pandas as pd\n",
    "import seaborn as sns\n",
    "from sklearn.feature_extraction import FeatureHasher\n",
    "\n",
    "titanic = sns.load_dataset(\"titanic\")\n",
    "\n",
    "titanic_sample = titanic[['sex', 'embarked', 'class']].dropna()\n",
    "\n",
    "data_dicts = titanic_sample.to_dict(orient='records')\n",
    "hasher = FeatureHasher(n_features=10, input_type='dict')\n",
    "\n",
    "hashed_features = hasher.transform(data_dicts)\n",
    "\n",
    "hashed_array = hashed_features.toarray()\n",
    "print(\"\\nHashed feature matrix (dense format):\\n\", hashed_array)"
   ]
  }
 ],
 "metadata": {
  "language_info": {
   "name": "python"
  }
 },
 "nbformat": 4,
 "nbformat_minor": 2
}
