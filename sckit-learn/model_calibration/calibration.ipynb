{
 "cells": [
  {
   "cell_type": "code",
   "execution_count": null,
   "metadata": {
    "vscode": {
     "languageId": "plaintext"
    }
   },
   "outputs": [],
   "source": [
    "import numpy as np\n",
    "import matplotlib.pyplot as plt\n",
    "from sklearn.datasets import load_breast_cancer\n",
    "from sklearn.linear_model import LogisticRegression\n",
    "from sklearn.calibration import calibration_curve, CalibratedClassifierCV\n",
    "from sklearn.model_selection import train_test_split\n",
    "\n",
    "data = load_breast_cancer()\n",
    "X, y = data.data, data.target\n",
    "\n",
    "X_train, X_test, y_train, y_test = train_test_split(X, y, random_state=42)\n",
    "lr = LogisticRegression().fit(X_train, y_train)\n",
    "\n",
    "prob_pos_lr = lr.predict_proba(X_test)[:, 1]\n",
    "fraction_lr, mean_pred_lr = calibration_curve(y_test, prob_pos_lr, n_bins=10)\n",
    "\n",
    "calibrated_clf = CalibratedClassifierCV(lr, cv='prefit', method='isotonic')\n",
    "calibrated_clf.fit(X_train, y_train)\n",
    "prob_pos_calibrated = calibrated_clf.predict_proba(X_test)[:, 1]\n",
    "fraction_cal, mean_pred_cal = calibration_curve(y_test, prob_pos_calibrated, n_bins=10)\n",
    "\n",
    "plt.figure(figsize=(8, 6))\n",
    "plt.plot(mean_pred_lr, fraction_lr, marker='o', label='Original LR')\n",
    "plt.plot(mean_pred_cal, fraction_cal, marker='s', label='Calibrated LR (Isotonic)')\n",
    "plt.plot([0, 1], [0, 1], linestyle='--', label='Perfect Calibration')\n",
    "plt.xlabel(\"Mean predicted probability\")\n",
    "plt.ylabel(\"Fraction of positives\")\n",
    "plt.title(\"Calibration Curve Comparison\")\n",
    "plt.legend(loc=\"upper left\")\n",
    "plt.show()"
   ]
  }
 ],
 "metadata": {
  "language_info": {
   "name": "python"
  }
 },
 "nbformat": 4,
 "nbformat_minor": 2
}
