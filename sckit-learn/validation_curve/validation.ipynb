{
 "cells": [
  {
   "cell_type": "code",
   "execution_count": null,
   "metadata": {
    "vscode": {
     "languageId": "plaintext"
    }
   },
   "outputs": [],
   "source": [
    "import numpy as np\n",
    "import matplotlib.pyplot as plt\n",
    "from sklearn.model_selection import validation_curve\n",
    "from sklearn.svm import SVC\n",
    "from sklearn.datasets import load_iris\n",
    "\n",
    "data = load_iris()\n",
    "X, y = data.data, data.target\n",
    "\n",
    "param_range = np.logspace(-3, 3, 5)  \n",
    "\n",
    "train_scores, test_scores = validation_curve(\n",
    "    SVC(), X, y, \n",
    "    param_name=\"gamma\", \n",
    "    param_range=param_range,\n",
    "    cv=5,          \n",
    "    scoring=\"accuracy\"\n",
    ")\n",
    "\n"
   ]
  },
  {
   "cell_type": "code",
   "execution_count": null,
   "metadata": {
    "vscode": {
     "languageId": "plaintext"
    }
   },
   "outputs": [],
   "source": [
    "plt.figure(figsize=(8, 6))\n",
    "plt.plot(param_range, X, label=\"Training score\", color=\"blue\", marker=\"o\")\n",
    "plt.plot(param_range, y, label=\"Cross-validation score\", color=\"green\", marker=\"s\")\n",
    "plt.xscale(\"log\") \n",
    "plt.xlabel(\"Gamma\")\n",
    "plt.ylabel(\"Accuracy\")\n",
    "plt.title(\"Validation Curve for SVC (gamma parameter)\")\n",
    "plt.legend(loc=\"best\")\n",
    "plt.show()"
   ]
  }
 ],
 "metadata": {
  "language_info": {
   "name": "python"
  }
 },
 "nbformat": 4,
 "nbformat_minor": 2
}
